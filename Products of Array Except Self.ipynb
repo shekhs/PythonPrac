{
 "cells": [
  {
   "cell_type": "markdown",
   "id": "9dd98d1b",
   "metadata": {},
   "source": [
    "Link to the problem \n",
    "\n",
    "https://neetcode.io/problems/products-of-array-discluding-self?list=neetcode150"
   ]
  },
  {
   "cell_type": "code",
   "execution_count": null,
   "id": "589f9ef5",
   "metadata": {},
   "outputs": [],
   "source": [
    "# First approach coming to mind\n",
    "\n",
    "# With O(n) time and O(1) space\n",
    "\n",
    "from functools import reduce\n",
    "class Solution:\n",
    "    def productExceptSelf(self, nums: List[int]) -> List[int]:\n",
    "        ans = [0 for i in nums]\n",
    "        if nums.count(0)>1:\n",
    "            return ans\n",
    "        nums_2 = [i if i != 0 else 1 for i in nums]\n",
    "        tot_prod = reduce(lambda x,y : x*y, nums)\n",
    "        tot_prod_2 = reduce(lambda x,y : x*y, nums_2)\n",
    "        \n",
    "        # ans = []\n",
    "        for i in range(len(nums)):\n",
    "            if nums[i]!=0 :\n",
    "                ans[i] = tot_prod//nums[i]\n",
    "            else:\n",
    "                ans[i] = tot_prod_2\n",
    "        return ans\n",
    "        "
   ]
  },
  {
   "cell_type": "code",
   "execution_count": null,
   "id": "61e0ee7e",
   "metadata": {},
   "outputs": [],
   "source": []
  }
 ],
 "metadata": {
  "kernelspec": {
   "display_name": ".coding_prac",
   "language": "python",
   "name": "python3"
  },
  "language_info": {
   "codemirror_mode": {
    "name": "ipython",
    "version": 3
   },
   "file_extension": ".py",
   "mimetype": "text/x-python",
   "name": "python",
   "nbconvert_exporter": "python",
   "pygments_lexer": "ipython3",
   "version": "3.9.13"
  }
 },
 "nbformat": 4,
 "nbformat_minor": 5
}
