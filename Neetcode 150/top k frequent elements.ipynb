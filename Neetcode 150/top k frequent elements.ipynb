{
 "cells": [
  {
   "cell_type": "code",
   "execution_count": 4,
   "id": "9981fd20",
   "metadata": {},
   "outputs": [],
   "source": [
    "a = [2,3,4,4,5,2,3,4,5,1,1,1,1,1]"
   ]
  },
  {
   "cell_type": "code",
   "execution_count": null,
   "id": "d773a4b5",
   "metadata": {},
   "outputs": [],
   "source": [
    "counter = {}\n",
    "for i in a:\n",
    "    if i in counter:\n",
    "        counter[i] += 1\n",
    "    else:\n",
    "        counter[i] = 1\n",
    "counter = (sorted(counter.items(),key = lambda x:x[1], reverse = True))\n"
   ]
  },
  {
   "cell_type": "code",
   "execution_count": 6,
   "id": "b5df26f6",
   "metadata": {},
   "outputs": [
    {
     "data": {
      "text/plain": [
       "{2: 2, 3: 2, 4: 3, 5: 2, 1: 5}"
      ]
     },
     "execution_count": 6,
     "metadata": {},
     "output_type": "execute_result"
    }
   ],
   "source": [
    "counter"
   ]
  },
  {
   "cell_type": "code",
   "execution_count": 16,
   "id": "58740854",
   "metadata": {},
   "outputs": [
    {
     "data": {
      "text/plain": [
       "[5, 3, 2, 2, 2]"
      ]
     },
     "execution_count": 16,
     "metadata": {},
     "output_type": "execute_result"
    }
   ],
   "source": [
    "sorted(list(counter.values()))[::-1]"
   ]
  },
  {
   "cell_type": "code",
   "execution_count": 27,
   "id": "e9ca08ff",
   "metadata": {},
   "outputs": [
    {
     "data": {
      "text/plain": [
       "[1, 4, 2]"
      ]
     },
     "execution_count": 27,
     "metadata": {},
     "output_type": "execute_result"
    }
   ],
   "source": [
    "ans = []\n",
    "for x in sorted(counter.items(),key = lambda x:x[1], reverse = True)[:3]:\n",
    "    ans.append(x[0])\n",
    "ans"
   ]
  },
  {
   "cell_type": "markdown",
   "id": "c9e95742",
   "metadata": {},
   "source": [
    "Top K Frequent Elements\n",
    "https://neetcode.io/problems/top-k-elements-in-list?list=neetcode150"
   ]
  },
  {
   "cell_type": "code",
   "execution_count": null,
   "id": "73c10086",
   "metadata": {},
   "outputs": [],
   "source": [
    "class Solution:\n",
    "    def topKFrequent(self, nums: List[int], k: int) -> List[int]:\n",
    "        counter = {}\n",
    "        for i in nums:\n",
    "            if i in counter:\n",
    "                counter[i] += 1\n",
    "            else:\n",
    "                counter[i] = 1\n",
    "        \n",
    "        top_k = [0] * k\n",
    "\n",
    "        sorted_count = sorted(counter.items(), key = lambda x : x[1],reverse = True)\n",
    "\n",
    "        for i in range(k):\n",
    "            top_k[i] = sorted_count[i][0]\n",
    "\n",
    "        return top_k\n",
    "\n",
    "\n",
    "\n",
    "# O(nlog(n)) time complexity\n",
    "# O(n) space complexity\n",
    "\n",
    "\n",
    "        "
   ]
  },
  {
   "cell_type": "code",
   "execution_count": null,
   "id": "3acdc7e3",
   "metadata": {},
   "outputs": [],
   "source": [
    "# Improving on time complexity using a heap\n",
    "\n",
    "# using Bucket Sort\n",
    "\n"
   ]
  },
  {
   "cell_type": "code",
   "execution_count": 38,
   "id": "c102c8f4",
   "metadata": {},
   "outputs": [
    {
     "data": {
      "text/plain": [
       "[[], [], [], [], [], [], [], [], [], [], [], [], [], []]"
      ]
     },
     "execution_count": 38,
     "metadata": {},
     "output_type": "execute_result"
    }
   ],
   "source": [
    "counter_list = [[]] * len(a)\n",
    "counter_list"
   ]
  },
  {
   "cell_type": "code",
   "execution_count": 66,
   "id": "a479d05c",
   "metadata": {},
   "outputs": [
    {
     "name": "stdout",
     "output_type": "stream",
     "text": [
      "2\n",
      "3\n",
      "4\n",
      "5\n",
      "1\n",
      "[[], [2, 3, 5], [4], [], [1], [], [], [], [], [], [], [], [], []]\n",
      "[1, 4, 2, 3]\n"
     ]
    }
   ],
   "source": [
    "# using Bucket Sort\n",
    "k = 4\n",
    "counter_list = [[]] * len(a)\n",
    "for num,num_count in counter.items():\n",
    "    print(num)\n",
    "    counter_list[num_count-1] = counter_list[num_count-1] + [num]\n",
    "\n",
    "print(counter_list)\n",
    "ans = []\n",
    "for x in counter_list[::-1]:\n",
    "    if x:\n",
    "        for xx in x:\n",
    "            ans.append(xx)\n",
    "            if len(ans) == k:\n",
    "                break\n",
    "    if len(ans) == k:\n",
    "        break\n",
    "print(ans)\n",
    "\n"
   ]
  },
  {
   "cell_type": "code",
   "execution_count": null,
   "id": "957dd35c",
   "metadata": {},
   "outputs": [],
   "source": [
    "# using Bucket Sort\n",
    "# O(n) time complexity\n",
    "# O(n) space complexity\n",
    "\n",
    "class Solution:\n",
    "    def topKFrequent(self, nums: List[int], k: int) -> List[int]:\n",
    "        counter = {}\n",
    "        for i in nums:\n",
    "            if i in counter:\n",
    "                counter[i] += 1\n",
    "            else:\n",
    "                counter[i] = 1\n",
    "        ##############################\n",
    "        # top_k = [0] * k\n",
    "\n",
    "        # sorted_count = sorted(counter.items(), key = lambda x : x[1],reverse = True)\n",
    "\n",
    "        # for i in range(k):\n",
    "        #     top_k[i] = sorted_count[i][0]\n",
    "\n",
    "        # return top_k\n",
    "\n",
    "\n",
    "        ##############################\n",
    "\n",
    "        counter_list = [[]] * len(nums)\n",
    "        for num,num_count in counter.items():\n",
    "            print(num)\n",
    "            counter_list[num_count-1] = counter_list[num_count-1] + [num]\n",
    "\n",
    "        print(counter_list)\n",
    "        ans = []\n",
    "        for x in counter_list[::-1]:\n",
    "            if x:\n",
    "                for xx in x:\n",
    "                    ans.append(xx)\n",
    "                    if len(ans) == k:\n",
    "                        break\n",
    "            if len(ans) == k:\n",
    "                break\n",
    "\n",
    "        return ans\n",
    "\n",
    "\n",
    "\n",
    "\n",
    "        "
   ]
  },
  {
   "cell_type": "code",
   "execution_count": null,
   "id": "b0f5254b",
   "metadata": {},
   "outputs": [],
   "source": []
  },
  {
   "cell_type": "code",
   "execution_count": null,
   "id": "d6127644",
   "metadata": {},
   "outputs": [],
   "source": []
  },
  {
   "cell_type": "code",
   "execution_count": null,
   "id": "a3aef2ae",
   "metadata": {},
   "outputs": [],
   "source": []
  },
  {
   "cell_type": "code",
   "execution_count": null,
   "id": "7a0d2d93",
   "metadata": {},
   "outputs": [],
   "source": []
  }
 ],
 "metadata": {
  "kernelspec": {
   "display_name": ".coding_prac",
   "language": "python",
   "name": "python3"
  },
  "language_info": {
   "codemirror_mode": {
    "name": "ipython",
    "version": 3
   },
   "file_extension": ".py",
   "mimetype": "text/x-python",
   "name": "python",
   "nbconvert_exporter": "python",
   "pygments_lexer": "ipython3",
   "version": "3.9.13"
  }
 },
 "nbformat": 4,
 "nbformat_minor": 5
}
