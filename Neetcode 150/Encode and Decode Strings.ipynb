{
 "cells": [
  {
   "cell_type": "markdown",
   "id": "be6f0e83",
   "metadata": {},
   "source": [
    "# Encode and Decode Strings\n",
    "\n",
    "https://neetcode.io/problems/string-encode-and-decode?list=neetcode150"
   ]
  },
  {
   "cell_type": "code",
   "execution_count": 30,
   "id": "9aba955b",
   "metadata": {},
   "outputs": [],
   "source": [
    "s = [\"khdja\",\"kajsha\",\"uatuy\"]\n",
    "s = []\n",
    "s = [\"\"]\n"
   ]
  },
  {
   "cell_type": "code",
   "execution_count": 31,
   "id": "7fd54dc7",
   "metadata": {},
   "outputs": [
    {
     "data": {
      "text/plain": [
       "''"
      ]
     },
     "execution_count": 31,
     "metadata": {},
     "output_type": "execute_result"
    }
   ],
   "source": [
    "ss = \"+\".join(s)\n",
    "ss"
   ]
  },
  {
   "cell_type": "code",
   "execution_count": 32,
   "id": "d259d93e",
   "metadata": {},
   "outputs": [
    {
     "data": {
      "text/plain": [
       "['']"
      ]
     },
     "execution_count": 32,
     "metadata": {},
     "output_type": "execute_result"
    }
   ],
   "source": [
    "ans = ss.split(\"+\")\n",
    "ans"
   ]
  },
  {
   "cell_type": "code",
   "execution_count": null,
   "id": "8b11ed4d",
   "metadata": {},
   "outputs": [],
   "source": [
    "# 1 approach that came to mind -- very naive\n",
    "\n",
    "class Solution:\n",
    "\n",
    "    def encode(self, strs: List[str]) -> str:\n",
    "        if len(strs) == 0:\n",
    "            return \"EMPTY ARRAY\"\n",
    "        \n",
    "\n",
    "        encoded_string = \"__HESOYAM__\".join(strs)\n",
    "        return encoded_string\n",
    "\n",
    "\n",
    "    def decode(self, s: str) -> List[str]:\n",
    "        if s==\"EMPTY ARRAY\":\n",
    "            return []\n",
    "        \n",
    "        ans = s.split(\"__HESOYAM__\")\n",
    "        return ans\n"
   ]
  },
  {
   "cell_type": "code",
   "execution_count": null,
   "id": "7d20de7b",
   "metadata": {},
   "outputs": [],
   "source": []
  },
  {
   "cell_type": "code",
   "execution_count": null,
   "id": "f7f4a1ee",
   "metadata": {},
   "outputs": [],
   "source": []
  }
 ],
 "metadata": {
  "kernelspec": {
   "display_name": ".coding_prac",
   "language": "python",
   "name": "python3"
  },
  "language_info": {
   "codemirror_mode": {
    "name": "ipython",
    "version": 3
   },
   "file_extension": ".py",
   "mimetype": "text/x-python",
   "name": "python",
   "nbconvert_exporter": "python",
   "pygments_lexer": "ipython3",
   "version": "3.9.13"
  }
 },
 "nbformat": 4,
 "nbformat_minor": 5
}
